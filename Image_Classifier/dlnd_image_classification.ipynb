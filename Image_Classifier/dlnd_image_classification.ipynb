{
 "cells": [
  {
   "cell_type": "markdown",
   "metadata": {
    "collapsed": true,
    "deletable": true,
    "editable": true
   },
   "source": [
    "# Image Classification\n",
    "In this project, you'll classify images from the [CIFAR-10 dataset](https://www.cs.toronto.edu/~kriz/cifar.html).  The dataset consists of airplanes, dogs, cats, and other objects. You'll preprocess the images, then train a convolutional neural network on all the samples. The images need to be normalized and the labels need to be one-hot encoded.  You'll get to apply what you learned and build a convolutional, max pooling, dropout, and fully connected layers.  At the end, you'll get to see your neural network's predictions on the sample images.\n",
    "## Get the Data\n",
    "Run the following cell to download the [CIFAR-10 dataset for python](https://www.cs.toronto.edu/~kriz/cifar-10-python.tar.gz)."
   ]
  },
  {
   "cell_type": "code",
   "execution_count": 1,
   "metadata": {
    "collapsed": false,
    "deletable": true,
    "editable": true
   },
   "outputs": [
    {
     "name": "stderr",
     "output_type": "stream",
     "text": [
      "CIFAR-10 Dataset: 171MB [00:26, 6.32MB/s]                              \n"
     ]
    },
    {
     "name": "stdout",
     "output_type": "stream",
     "text": [
      "All files found!\n"
     ]
    }
   ],
   "source": [
    "\"\"\"\n",
    "DON'T MODIFY ANYTHING IN THIS CELL THAT IS BELOW THIS LINE\n",
    "\"\"\"\n",
    "from urllib.request import urlretrieve\n",
    "from os.path import isfile, isdir\n",
    "from tqdm import tqdm\n",
    "import problem_unittests as tests\n",
    "import tarfile\n",
    "\n",
    "cifar10_dataset_folder_path = 'cifar-10-batches-py'\n",
    "\n",
    "class DLProgress(tqdm):\n",
    "    last_block = 0\n",
    "\n",
    "    def hook(self, block_num=1, block_size=1, total_size=None):\n",
    "        self.total = total_size\n",
    "        self.update((block_num - self.last_block) * block_size)\n",
    "        self.last_block = block_num\n",
    "\n",
    "if not isfile('cifar-10-python.tar.gz'):\n",
    "    with DLProgress(unit='B', unit_scale=True, miniters=1, desc='CIFAR-10 Dataset') as pbar:\n",
    "        urlretrieve(\n",
    "            'https://www.cs.toronto.edu/~kriz/cifar-10-python.tar.gz',\n",
    "            'cifar-10-python.tar.gz',\n",
    "            pbar.hook)\n",
    "\n",
    "if not isdir(cifar10_dataset_folder_path):\n",
    "    with tarfile.open('cifar-10-python.tar.gz') as tar:\n",
    "        tar.extractall()\n",
    "        tar.close()\n",
    "\n",
    "\n",
    "tests.test_folder_path(cifar10_dataset_folder_path)"
   ]
  },
  {
   "cell_type": "markdown",
   "metadata": {
    "deletable": true,
    "editable": true
   },
   "source": [
    "## Explore the Data\n",
    "The dataset is broken into batches to prevent your machine from running out of memory.  The CIFAR-10 dataset consists of 5 batches, named `data_batch_1`, `data_batch_2`, etc.. Each batch contains the labels and images that are one of the following:\n",
    "* airplane\n",
    "* automobile\n",
    "* bird\n",
    "* cat\n",
    "* deer\n",
    "* dog\n",
    "* frog\n",
    "* horse\n",
    "* ship\n",
    "* truck\n",
    "\n",
    "Understanding a dataset is part of making predictions on the data.  Play around with the code cell below by changing the `batch_id` and `sample_id`. The `batch_id` is the id for a batch (1-5). The `sample_id` is the id for a image and label pair in the batch.\n",
    "\n",
    "Ask yourself \"What are all possible labels?\", \"What is the range of values for the image data?\", \"Are the labels in order or random?\".  Answers to questions like these will help you preprocess the data and end up with better predictions."
   ]
  },
  {
   "cell_type": "code",
   "execution_count": 2,
   "metadata": {
    "collapsed": false,
    "deletable": true,
    "editable": true
   },
   "outputs": [
    {
     "name": "stdout",
     "output_type": "stream",
     "text": [
      "\n",
      "Stats of batch 1:\n",
      "Samples: 10000\n",
      "Label Counts: {0: 1005, 1: 974, 2: 1032, 3: 1016, 4: 999, 5: 937, 6: 1030, 7: 1001, 8: 1025, 9: 981}\n",
      "First 20 Labels: [6, 9, 9, 4, 1, 1, 2, 7, 8, 3, 4, 7, 7, 2, 9, 9, 9, 3, 2, 6]\n",
      "\n",
      "Example of Image 5:\n",
      "Image - Min Value: 0 Max Value: 252\n",
      "Image - Shape: (32, 32, 3)\n",
      "Label - Label Id: 1 Name: automobile\n"
     ]
    },
    {
     "data": {
      "image/png": "[encoded data removed]",
      "text/plain": [
       "<matplotlib.figure.Figure at 0x7fc9b500f9e8>"
      ]
     },
     "metadata": {
      "image/png": {
       "height": 250,
       "width": 253
      }
     },
     "output_type": "display_data"
    }
   ],
   "source": [
    "%matplotlib inline\n",
    "%config InlineBackend.figure_format = 'retina'\n",
    "\n",
    "import helper\n",
    "import numpy as np\n",
    "\n",
    "# Explore the dataset\n",
    "batch_id = 1\n",
    "sample_id = 5\n",
    "helper.display_stats(cifar10_dataset_folder_path, batch_id, sample_id)"
   ]
  },
  {
   "cell_type": "markdown",
   "metadata": {
    "deletable": true,
    "editable": true
   },
   "source": [
    "## Implement Preprocess Functions\n",
    "### Normalize\n",
    "In the cell below, implement the `normalize` function to take in image data, `x`, and return it as a normalized Numpy array. The values should be in the range of 0 to 1, inclusive.  The return object should be the same shape as `x`."
   ]
  },
  {
   "cell_type": "code",
   "execution_count": 3,
   "metadata": {
    "collapsed": false,
    "deletable": true,
    "editable": true
   },
   "outputs": [
    {
     "name": "stdout",
     "output_type": "stream",
     "text": [
      "Tests Passed\n"
     ]
    }
   ],
   "source": [
    "def normalize(x):\n",
    "    \"\"\"\n",
    "    Normalize a list of sample image data in the range of 0 to 1\n",
    "    : x: List of image data.  The image shape is (32, 32, 3)\n",
    "    : return: Numpy array of normalize data\n",
    "    \"\"\"\n",
    "    # TODO: Implement Function\n",
    "    return x/np.max(x)\n",
    "\n",
    "\n",
    "\"\"\"\n",
    "DON'T MODIFY ANYTHING IN THIS CELL THAT IS BELOW THIS LINE\n",
    "\"\"\"\n",
    "tests.test_normalize(normalize)"
   ]
  },
  {
   "cell_type": "markdown",
   "metadata": {
    "deletable": true,
    "editable": true
   },
   "source": [
    "### One-hot encode\n",
    "Just like the previous code cell, you'll be implementing a function for preprocessing.  This time, you'll implement the `one_hot_encode` function. The input, `x`, are a list of labels.  Implement the function to return the list of labels as One-Hot encoded Numpy array.  The possible values for labels are 0 to 9. The one-hot encoding function should return the same encoding for each value between each call to `one_hot_encode`.  Make sure to save the map of encodings outside the function.\n",
    "\n",
    "Hint: Don't reinvent the wheel."
   ]
  },
  {
   "cell_type": "code",
   "execution_count": 9,
   "metadata": {
    "collapsed": false,
    "deletable": true,
    "editable": true
   },
   "outputs": [
    {
     "name": "stdout",
     "output_type": "stream",
     "text": [
      "Tests Passed\n"
     ]
    }
   ],
   "source": [
    "ohe=[]\n",
    "def one_hot_encode(x):\n",
    "    \"\"\"\n",
    "    One hot encode a list of sample labels. Return a one-hot encoded vector for each label.\n",
    "    : x: List of sample Labels\n",
    "    : return: Numpy array of one-hot encoded labels\n",
    "    \"\"\"\n",
    "    # TODO: Implement Function\n",
    "    ohe = np.zeros((len(x),10)) \n",
    "    for i, n in enumerate (x):\n",
    "        ohe[i][n]=1\n",
    "    return ohe\n",
    "\n",
    "\n",
    "\"\"\"\n",
    "DON'T MODIFY ANYTHING IN THIS CELL THAT IS BELOW THIS LINE\n",
    "\"\"\"\n",
    "tests.test_one_hot_encode(one_hot_encode)"
   ]
  },
  {
   "cell_type": "markdown",
   "metadata": {
    "deletable": true,
    "editable": true
   },
   "source": [
    "### Randomize Data\n",
    "As you saw from exploring the data above, the order of the samples are randomized.  It doesn't hurt to randomize it again, but you don't need to for this dataset."
   ]
  },
  {
   "cell_type": "markdown",
   "metadata": {
    "deletable": true,
    "editable": true
   },
   "source": [
    "## Preprocess all the data and save it\n",
    "Running the code cell below will preprocess all the CIFAR-10 data and save it to file. The code below also uses 10% of the training data for validation."
   ]
  },
  {
   "cell_type": "code",
   "execution_count": 11,
   "metadata": {
    "collapsed": false,
    "deletable": true,
    "editable": true
   },
   "outputs": [],
   "source": [
    "\"\"\"\n",
    "DON'T MODIFY ANYTHING IN THIS CELL\n",
    "\"\"\"\n",
    "# Preprocess Training, Validation, and Testing Data\n",
    "helper.preprocess_and_save_data(cifar10_dataset_folder_path, normalize, one_hot_encode)"
   ]
  },
  {
   "cell_type": "markdown",
   "metadata": {
    "deletable": true,
    "editable": true
   },
   "source": [
    "# Check Point\n",
    "This is your first checkpoint.  If you ever decide to come back to this notebook or have to restart the notebook, you can start from here.  The preprocessed data has been saved to disk."
   ]
  },
  {
   "cell_type": "code",
   "execution_count": 12,
   "metadata": {
    "collapsed": true,
    "deletable": true,
    "editable": true
   },
   "outputs": [],
   "source": [
    "\"\"\"\n",
    "DON'T MODIFY ANYTHING IN THIS CELL\n",
    "\"\"\"\n",
    "import pickle\n",
    "import problem_unittests as tests\n",
    "import helper\n",
    "\n",
    "# Load the Preprocessed Validation data\n",
    "valid_features, valid_labels = pickle.load(open('preprocess_validation.p', mode='rb'))"
   ]
  },
  {
   "cell_type": "markdown",
   "metadata": {
    "deletable": true,
    "editable": true
   },
   "source": [
    "## Build the network\n",
    "For the neural network, you'll build each layer into a function.  Most of the code you've seen has been outside of functions. To test your code more thoroughly, we require that you put each layer in a function.  This allows us to give you better feedback and test for simple mistakes using our unittests before you submit your project.\n",
    "\n",
    ">**Note:** If you're finding it hard to dedicate enough time for this course each week, we've provided a small shortcut to this part of the project. In the next couple of problems, you'll have the option to use classes from the [TensorFlow Layers](https://www.tensorflow.org/api_docs/python/tf/layers) or [TensorFlow Layers (contrib)](https://www.tensorflow.org/api_guides/python/contrib.layers) packages to build each layer, except the layers you build in the \"Convolutional and Max Pooling Layer\" section.  TF Layers is similar to Keras's and TFLearn's abstraction to layers, so it's easy to pickup.\n",
    "\n",
    ">However, if you would like to get the most out of this course, try to solve all the problems _without_ using anything from the TF Layers packages. You **can** still use classes from other packages that happen to have the same name as ones you find in TF Layers! For example, instead of using the TF Layers version of the `conv2d` class, [tf.layers.conv2d](https://www.tensorflow.org/api_docs/python/tf/layers/conv2d), you would want to use the TF Neural Network version of `conv2d`, [tf.nn.conv2d](https://www.tensorflow.org/api_docs/python/tf/nn/conv2d). \n",
    "\n",
    "Let's begin!\n",
    "\n",
    "### Input\n",
    "The neural network needs to read the image data, one-hot encoded labels, and dropout keep probability. Implement the following functions\n",
    "* Implement `neural_net_image_input`\n",
    " * Return a [TF Placeholder](https://www.tensorflow.org/api_docs/python/tf/placeholder)\n",
    " * Set the shape using `image_shape` with batch size set to `None`.\n",
    " * Name the TensorFlow placeholder \"x\" using the TensorFlow `name` parameter in the [TF Placeholder](https://www.tensorflow.org/api_docs/python/tf/placeholder).\n",
    "* Implement `neural_net_label_input`\n",
    " * Return a [TF Placeholder](https://www.tensorflow.org/api_docs/python/tf/placeholder)\n",
    " * Set the shape using `n_classes` with batch size set to `None`.\n",
    " * Name the TensorFlow placeholder \"y\" using the TensorFlow `name` parameter in the [TF Placeholder](https://www.tensorflow.org/api_docs/python/tf/placeholder).\n",
    "* Implement `neural_net_keep_prob_input`\n",
    " * Return a [TF Placeholder](https://www.tensorflow.org/api_docs/python/tf/placeholder) for dropout keep probability.\n",
    " * Name the TensorFlow placeholder \"keep_prob\" using the TensorFlow `name` parameter in the [TF Placeholder](https://www.tensorflow.org/api_docs/python/tf/placeholder).\n",
    "\n",
    "These names will be used at the end of the project to load your saved model.\n",
    "\n",
    "Note: `None` for shapes in TensorFlow allow for a dynamic size."
   ]
  },
  {
   "cell_type": "code",
   "execution_count": 13,
   "metadata": {
    "collapsed": false,
    "deletable": true,
    "editable": true
   },
   "outputs": [
    {
     "name": "stdout",
     "output_type": "stream",
     "text": [
      "Image Input Tests Passed.\n",
      "Label Input Tests Passed.\n",
      "Keep Prob Tests Passed.\n"
     ]
    }
   ],
   "source": [
    "import tensorflow as tf\n",
    "\n",
    "def neural_net_image_input(image_shape):\n",
    "    \"\"\"\n",
    "    Return a Tensor for a bach of image input\n",
    "    : image_shape: Shape of the images\n",
    "    : return: Tensor for image input.\n",
    "    \"\"\"\n",
    "    # TODO: Implement Function\n",
    "    return tf.placeholder(tf.float32, shape=(None,image_shape[0],image_shape[1],image_shape[2]), name='x')\n",
    "\n",
    "\n",
    "def neural_net_label_input(n_classes):\n",
    "    \"\"\"\n",
    "    Return a Tensor for a batch of label input\n",
    "    : n_classes: Number of classes\n",
    "    : return: Tensor for label input.\n",
    "    \"\"\"\n",
    "    # TODO: Implement Function\n",
    "    return tf.placeholder(tf.float32, shape=(None,n_classes), name='y')\n",
    "\n",
    "\n",
    "def neural_net_keep_prob_input():\n",
    "    \"\"\"\n",
    "    Return a Tensor for keep probability\n",
    "    : return: Tensor for keep probability.\n",
    "    \"\"\"\n",
    "    # TODO: Implement Function\n",
    "    return tf.placeholder(tf.float32, name='keep_prob')\n",
    "\n",
    "\n",
    "\"\"\"\n",
    "DON'T MODIFY ANYTHING IN THIS CELL THAT IS BELOW THIS LINE\n",
    "\"\"\"\n",
    "tf.reset_default_graph()\n",
    "tests.test_nn_image_inputs(neural_net_image_input)\n",
    "tests.test_nn_label_inputs(neural_net_label_input)\n",
    "tests.test_nn_keep_prob_inputs(neural_net_keep_prob_input)"
   ]
  },
  {
   "cell_type": "markdown",
   "metadata": {
    "deletable": true,
    "editable": true
   },
   "source": [
    "### Convolution and Max Pooling Layer\n",
    "Convolution layers have a lot of success with images. For this code cell, you should implement the function `conv2d_maxpool` to apply convolution then max pooling:\n",
    "* Create the weight and bias using `conv_ksize`, `conv_num_outputs` and the shape of `x_tensor`.\n",
    "* Apply a convolution to `x_tensor` using weight and `conv_strides`.\n",
    " * We recommend you use same padding, but you're welcome to use any padding.\n",
    "* Add bias\n",
    "* Add a nonlinear activation to the convolution.\n",
    "* Apply Max Pooling using `pool_ksize` and `pool_strides`.\n",
    " * We recommend you use same padding, but you're welcome to use any padding.\n",
    "\n",
    "**Note:** You **can't** use [TensorFlow Layers](https://www.tensorflow.org/api_docs/python/tf/layers) or [TensorFlow Layers (contrib)](https://www.tensorflow.org/api_guides/python/contrib.layers) for **this** layer, but you can still use TensorFlow's [Neural Network](https://www.tensorflow.org/api_docs/python/tf/nn) package. You may still use the shortcut option for all the **other** layers."
   ]
  },
  {
   "cell_type": "code",
   "execution_count": 92,
   "metadata": {
    "collapsed": false,
    "deletable": true,
    "editable": true
   },
   "outputs": [
    {
     "name": "stdout",
     "output_type": "stream",
     "text": [
      "Tests Passed\n"
     ]
    }
   ],
   "source": [
    "def conv2d_maxpool(x_tensor, conv_num_outputs, conv_ksize, conv_strides, pool_ksize, pool_strides):\n",
    "    \"\"\"\n",
    "    Apply convolution then max pooling to x_tensor\n",
    "    :param x_tensor: TensorFlow Tensor\n",
    "    :param conv_num_outputs: Number of outputs for the convolutional layer\n",
    "    :param conv_ksize: kernal size 2-D Tuple for the convolutional layer\n",
    "    :param conv_strides: Stride 2-D Tuple for convolution\n",
    "    :param pool_ksize: kernal size 2-D Tuple for pool\n",
    "    :param pool_strides: Stride 2-D Tuple for pool\n",
    "    : return: A tensor that represents convolution and max pooling of x_tensor\n",
    "    \"\"\"\n",
    "    # TODO: Implement Function\n",
    "    input_depth = x_tensor.shape[3]            \n",
    "    weight = tf.Variable(tf.truncated_normal([conv_ksize[0],conv_ksize[1], input_depth.value, conv_num_outputs],mean=0.0,stddev=0.075))    \n",
    "    bias = tf.Variable(tf.truncated_normal([conv_num_outputs],mean=0.0,stddev=0.075))\n",
    "    conv_tensor = tf.nn.conv2d(x_tensor,weight,strides=[1,conv_strides[0],conv_strides[1],1],padding='SAME')\n",
    "    conv_tensor = tf.nn.bias_add(conv_tensor,bias)\n",
    "    conv_tensor = tf.nn.relu(conv_tensor)\n",
    "    conv_tensor = tf.nn.max_pool(conv_tensor, ksize=[1,pool_ksize[0],pool_ksize[1],1], strides=[1,pool_ksize[0],pool_ksize[1],1], padding='SAME')    \n",
    "    return conv_tensor \n",
    "\n",
    "\n",
    "\"\"\"\n",
    "DON'T MODIFY ANYTHING IN THIS CELL THAT IS BELOW THIS LINE\n",
    "\"\"\"\n",
    "tests.test_con_pool(conv2d_maxpool)"
   ]
  },
  {
   "cell_type": "markdown",
   "metadata": {
    "deletable": true,
    "editable": true
   },
   "source": [
    "### Flatten Layer\n",
    "Implement the `flatten` function to change the dimension of `x_tensor` from a 4-D tensor to a 2-D tensor.  The output should be the shape (*Batch Size*, *Flattened Image Size*). Shortcut option: you can use classes from the [TensorFlow Layers](https://www.tensorflow.org/api_docs/python/tf/layers) or [TensorFlow Layers (contrib)](https://www.tensorflow.org/api_guides/python/contrib.layers) packages for this layer. For more of a challenge, only use other TensorFlow packages."
   ]
  },
  {
   "cell_type": "code",
   "execution_count": 93,
   "metadata": {
    "collapsed": false,
    "deletable": true,
    "editable": true
   },
   "outputs": [
    {
     "name": "stdout",
     "output_type": "stream",
     "text": [
      "Tests Passed\n"
     ]
    }
   ],
   "source": [
    "def flatten(x_tensor):\n",
    "    \"\"\"\n",
    "    Flatten x_tensor to (Batch Size, Flattened Image Size)\n",
    "    : x_tensor: A tensor of size (Batch Size, ...), where ... are the image dimensions.\n",
    "    : return: A tensor of size (Batch Size, Flattened Image Size).\n",
    "    \"\"\"\n",
    "    # TODO: Implement Function\n",
    "    shape = x_tensor.shape\n",
    "    flat_image_size=1    \n",
    "    for i in range(1,len(shape)):\n",
    "        flat_image_size*=shape[i].value\n",
    "    flat_tensor = tf.reshape(x_tensor, [-1,flat_image_size])\n",
    "    return flat_tensor\n",
    "\n",
    "\n",
    "\"\"\"\n",
    "DON'T MODIFY ANYTHING IN THIS CELL THAT IS BELOW THIS LINE\n",
    "\"\"\"\n",
    "tests.test_flatten(flatten)"
   ]
  },
  {
   "cell_type": "markdown",
   "metadata": {
    "deletable": true,
    "editable": true
   },
   "source": [
    "### Fully-Connected Layer\n",
    "Implement the `fully_conn` function to apply a fully connected layer to `x_tensor` with the shape (*Batch Size*, *num_outputs*). Shortcut option: you can use classes from the [TensorFlow Layers](https://www.tensorflow.org/api_docs/python/tf/layers) or [TensorFlow Layers (contrib)](https://www.tensorflow.org/api_guides/python/contrib.layers) packages for this layer. For more of a challenge, only use other TensorFlow packages."
   ]
  },
  {
   "cell_type": "code",
   "execution_count": 94,
   "metadata": {
    "collapsed": false,
    "deletable": true,
    "editable": true
   },
   "outputs": [
    {
     "name": "stdout",
     "output_type": "stream",
     "text": [
      "Tests Passed\n"
     ]
    }
   ],
   "source": [
    "def fully_conn(x_tensor, num_outputs):\n",
    "    \"\"\"\n",
    "    Apply a fully connected layer to x_tensor using weight and bias\n",
    "    : x_tensor: A 2-D tensor where the first dimension is batch size.\n",
    "    : num_outputs: The number of output that the new tensor should be.\n",
    "    : return: A 2-D tensor where the second dimension is num_outputs.\n",
    "    \"\"\"\n",
    "    # TODO: Implement Function\n",
    "    input_size = x_tensor.shape[1].value    \n",
    "    weights = tf.Variable(tf.truncated_normal([input_size, num_outputs],mean=0.0,stddev=0.075))\n",
    "    bias = tf.Variable(tf.truncated_normal([num_outputs],mean=0.0,stddev=0.075))\n",
    "    output_tensor = tf.matmul(x_tensor,weights)\n",
    "    output_tensor = tf.add(output_tensor,bias)\n",
    "    output_tensor = tf.nn.relu(output_tensor)     \n",
    "    return output_tensor\n",
    "\n",
    "\n",
    "\"\"\"\n",
    "DON'T MODIFY ANYTHING IN THIS CELL THAT IS BELOW THIS LINE\n",
    "\"\"\"\n",
    "tests.test_fully_conn(fully_conn)"
   ]
  },
  {
   "cell_type": "markdown",
   "metadata": {
    "deletable": true,
    "editable": true
   },
   "source": [
    "### Output Layer\n",
    "Implement the `output` function to apply a fully connected layer to `x_tensor` with the shape (*Batch Size*, *num_outputs*). Shortcut option: you can use classes from the [TensorFlow Layers](https://www.tensorflow.org/api_docs/python/tf/layers) or [TensorFlow Layers (contrib)](https://www.tensorflow.org/api_guides/python/contrib.layers) packages for this layer. For more of a challenge, only use other TensorFlow packages.\n",
    "\n",
    "**Note:** Activation, softmax, or cross entropy should **not** be applied to this."
   ]
  },
  {
   "cell_type": "code",
   "execution_count": 95,
   "metadata": {
    "collapsed": false,
    "deletable": true,
    "editable": true
   },
   "outputs": [
    {
     "name": "stdout",
     "output_type": "stream",
     "text": [
      "Tests Passed\n"
     ]
    }
   ],
   "source": [
    "def output(x_tensor, num_outputs):\n",
    "    \"\"\"\n",
    "    Apply a output layer to x_tensor using weight and bias\n",
    "    : x_tensor: A 2-D tensor where the first dimension is batch size.\n",
    "    : num_outputs: The number of output that the new tensor should be.\n",
    "    : return: A 2-D tensor where the second dimension is num_outputs.\n",
    "    \"\"\"\n",
    "    # TODO: Implement Function\n",
    "    input_size = x_tensor.shape[1].value    \n",
    "    weights = tf.Variable(tf.truncated_normal([input_size, num_outputs],mean=0.0,stddev=0.075))\n",
    "    bias = tf.Variable(tf.truncated_normal([num_outputs],mean=0.0,stddev=0.075))    \n",
    "    output_tensor = tf.matmul(x_tensor,weights)\n",
    "    output_tensor = tf.add(output_tensor,bias)\n",
    "    #output_tensor = tf.nn.relu(output_tensor)\n",
    "    return output_tensor\n",
    "\n",
    "\n",
    "\"\"\"\n",
    "DON'T MODIFY ANYTHING IN THIS CELL THAT IS BELOW THIS LINE\n",
    "\"\"\"\n",
    "tests.test_output(output)"
   ]
  },
  {
   "cell_type": "markdown",
   "metadata": {
    "deletable": true,
    "editable": true
   },
   "source": [
    "### Create Convolutional Model\n",
    "Implement the function `conv_net` to create a convolutional neural network model. The function takes in a batch of images, `x`, and outputs logits.  Use the layers you created above to create this model:\n",
    "\n",
    "* Apply 1, 2, or 3 Convolution and Max Pool layers\n",
    "* Apply a Flatten Layer\n",
    "* Apply 1, 2, or 3 Fully Connected Layers\n",
    "* Apply an Output Layer\n",
    "* Return the output\n",
    "* Apply [TensorFlow's Dropout](https://www.tensorflow.org/api_docs/python/tf/nn/dropout) to one or more layers in the model using `keep_prob`. "
   ]
  },
  {
   "cell_type": "code",
   "execution_count": 126,
   "metadata": {
    "collapsed": false,
    "deletable": true,
    "editable": true
   },
   "outputs": [
    {
     "name": "stdout",
     "output_type": "stream",
     "text": [
      "Neural Network Built!\n"
     ]
    }
   ],
   "source": [
    "def conv_net(x, keep_prob):\n",
    "    \"\"\"\n",
    "    Create a convolutional neural network model\n",
    "    : x: Placeholder tensor that holds image data.\n",
    "    : keep_prob: Placeholder tensor that hold dropout keep probability.\n",
    "    : return: Tensor that represents logits\n",
    "    \"\"\"\n",
    "    # TODO: Apply 1, 2, or 3 Convolution and Max Pool layers\n",
    "    #    Play around with different number of outputs, kernel size and stride\n",
    "    # Function Definition from Above:\n",
    "    #    conv2d_maxpool(x_tensor, conv_num_outputs, conv_ksize, conv_strides, pool_ksize, pool_strides)\n",
    "    x = conv2d_maxpool(x, 32, [4,4], [1,1], [2,2], [2,2])\n",
    "    x = conv2d_maxpool(x, 64, [4,4], [1,1], [2,2], [2,2])    \n",
    "    x = conv2d_maxpool(x, 128, [4,4], [1,1], [2,2], [2,2])        \n",
    "\n",
    "    # TODO: Apply a Flatten Layer\n",
    "    # Function Definition from Above:\n",
    "    #   flatten(x_tensor)\n",
    "    x = flatten(x)    \n",
    "    \n",
    "\n",
    "    # TODO: Apply 1, 2, or 3 Fully Connected Layers\n",
    "    #    Play around with different number of outputs\n",
    "    # Function Definition from Above:\n",
    "    #   fully_conn(x_tensor, num_outputs)\n",
    "    x = fully_conn(x, 1024)    \n",
    "    x = fully_conn(x, 1024)        \n",
    "    x = tf.nn.dropout(x, keep_prob)\n",
    "    \n",
    "    # TODO: Apply an Output Layer\n",
    "    #    Set this to the number of classes\n",
    "    # Function Definition from Above:\n",
    "    #   output(x_tensor, num_outputs)\n",
    "    x = output(x, 10)    \n",
    "    \n",
    "    \n",
    "    # TODO: return output\n",
    "    return x\n",
    "\n",
    "\n",
    "\"\"\"\n",
    "DON'T MODIFY ANYTHING IN THIS CELL THAT IS BELOW THIS LINE\n",
    "\"\"\"\n",
    "\n",
    "##############################\n",
    "## Build the Neural Network ##\n",
    "##############################\n",
    "\n",
    "# Remove previous weights, bias, inputs, etc..\n",
    "tf.reset_default_graph()\n",
    "\n",
    "# Inputs\n",
    "x = neural_net_image_input((32, 32, 3))\n",
    "y = neural_net_label_input(10)\n",
    "keep_prob = neural_net_keep_prob_input()\n",
    "\n",
    "# Model\n",
    "logits = conv_net(x, keep_prob)\n",
    "\n",
    "# Name logits Tensor, so that is can be loaded from disk after training\n",
    "logits = tf.identity(logits, name='logits')\n",
    "\n",
    "# Loss and Optimizer\n",
    "cost = tf.reduce_mean(tf.nn.softmax_cross_entropy_with_logits(logits=logits, labels=y))\n",
    "optimizer = tf.train.AdamOptimizer().minimize(cost)\n",
    "\n",
    "# Accuracy\n",
    "correct_pred = tf.equal(tf.argmax(logits, 1), tf.argmax(y, 1))\n",
    "accuracy = tf.reduce_mean(tf.cast(correct_pred, tf.float32), name='accuracy')\n",
    "\n",
    "tests.test_conv_net(conv_net)"
   ]
  },
  {
   "cell_type": "markdown",
   "metadata": {
    "deletable": true,
    "editable": true
   },
   "source": [
    "## Train the Neural Network\n",
    "### Single Optimization\n",
    "Implement the function `train_neural_network` to do a single optimization.  The optimization should use `optimizer` to optimize in `session` with a `feed_dict` of the following:\n",
    "* `x` for image input\n",
    "* `y` for labels\n",
    "* `keep_prob` for keep probability for dropout\n",
    "\n",
    "This function will be called for each batch, so `tf.global_variables_initializer()` has already been called.\n",
    "\n",
    "Note: Nothing needs to be returned. This function is only optimizing the neural network."
   ]
  },
  {
   "cell_type": "code",
   "execution_count": 127,
   "metadata": {
    "collapsed": false,
    "deletable": true,
    "editable": true
   },
   "outputs": [
    {
     "name": "stdout",
     "output_type": "stream",
     "text": [
      "Tests Passed\n"
     ]
    }
   ],
   "source": [
    "def train_neural_network(session, optimizer, keep_probability, feature_batch, label_batch):\n",
    "    \"\"\"\n",
    "    Optimize the session on a batch of images and labels\n",
    "    : session: Current TensorFlow session\n",
    "    : optimizer: TensorFlow optimizer function\n",
    "    : keep_probability: keep probability\n",
    "    : feature_batch: Batch of Numpy image data\n",
    "    : label_batch: Batch of Numpy label data\n",
    "    \"\"\"\n",
    "    # TODO: Implement Function\n",
    "    session.run(optimizer, feed_dict={'keep_prob:0': keep_probability, 'x:0': feature_batch, 'y:0': label_batch})\n",
    "\n",
    "\n",
    "\"\"\"\n",
    "DON'T MODIFY ANYTHING IN THIS CELL THAT IS BELOW THIS LINE\n",
    "\"\"\"\n",
    "tests.test_train_nn(train_neural_network)"
   ]
  },
  {
   "cell_type": "markdown",
   "metadata": {
    "deletable": true,
    "editable": true
   },
   "source": [
    "### Show Stats\n",
    "Implement the function `print_stats` to print loss and validation accuracy.  Use the global variables `valid_features` and `valid_labels` to calculate validation accuracy.  Use a keep probability of `1.0` to calculate the loss and validation accuracy."
   ]
  },
  {
   "cell_type": "code",
   "execution_count": 128,
   "metadata": {
    "collapsed": false,
    "deletable": true,
    "editable": true
   },
   "outputs": [],
   "source": [
    "def print_stats(session, feature_batch, label_batch, cost, accuracy):\n",
    "    \"\"\"\n",
    "    Print information about loss and validation accuracy\n",
    "    : session: Current TensorFlow session\n",
    "    : feature_batch: Batch of Numpy image data\n",
    "    : label_batch: Batch of Numpy label data\n",
    "    : cost: TensorFlow cost function\n",
    "    : accuracy: TensorFlow accuracy function\n",
    "    \"\"\"\n",
    "    # TODO: Implement Function\n",
    "    cost_value = session.run(cost, feed_dict={'keep_prob:0': 1.0, 'x:0': feature_batch, 'y:0': label_batch})\n",
    "    accuracy_value = session.run(accuracy, feed_dict={'keep_prob:0': 1.0, 'x:0': valid_features, 'y:0': valid_labels})  \n",
    "    print(\"Current Cost: {}, Current Accuracy: {}\".format(cost_value, accuracy_value))    "
   ]
  },
  {
   "cell_type": "markdown",
   "metadata": {
    "deletable": true,
    "editable": true
   },
   "source": [
    "### Hyperparameters\n",
    "Tune the following parameters:\n",
    "* Set `epochs` to the number of iterations until the network stops learning or start overfitting\n",
    "* Set `batch_size` to the highest number that your machine has memory for.  Most people set them to common sizes of memory:\n",
    " * 64\n",
    " * 128\n",
    " * 256\n",
    " * ...\n",
    "* Set `keep_probability` to the probability of keeping a node using dropout"
   ]
  },
  {
   "cell_type": "code",
   "execution_count": 174,
   "metadata": {
    "collapsed": true,
    "deletable": true,
    "editable": true
   },
   "outputs": [],
   "source": [
    "# TODO: Tune Parameters\n",
    "epochs = 56\n",
    "batch_size = 128\n",
    "keep_probability = 0.5"
   ]
  },
  {
   "cell_type": "markdown",
   "metadata": {
    "deletable": true,
    "editable": true
   },
   "source": [
    "### Train on a Single CIFAR-10 Batch\n",
    "Instead of training the neural network on all the CIFAR-10 batches of data, let's use a single batch. This should save time while you iterate on the model to get a better accuracy.  Once the final validation accuracy is 50% or greater, run the model on all the data in the next section."
   ]
  },
  {
   "cell_type": "code",
   "execution_count": 129,
   "metadata": {
    "collapsed": false,
    "deletable": true,
    "editable": true
   },
   "outputs": [
    {
     "name": "stdout",
     "output_type": "stream",
     "text": [
      "Checking the Training on a Single Batch...\n",
      "Epoch  1, CIFAR-10 Batch 1:  Current Cost: 1.8852393627166748, Current Accuracy: 0.3773999810218811\n",
      "Epoch  2, CIFAR-10 Batch 1:  Current Cost: 1.3278882503509521, Current Accuracy: 0.4633999466896057\n",
      "Epoch  3, CIFAR-10 Batch 1:  Current Cost: 1.0274978876113892, Current Accuracy: 0.5063999891281128\n",
      "Epoch  4, CIFAR-10 Batch 1:  Current Cost: 0.7653986215591431, Current Accuracy: 0.5321999192237854\n",
      "Epoch  5, CIFAR-10 Batch 1:  Current Cost: 0.5696710348129272, Current Accuracy: 0.5229999423027039\n",
      "Epoch  6, CIFAR-10 Batch 1:  Current Cost: 0.3976752460002899, Current Accuracy: 0.5445998907089233\n",
      "Epoch  7, CIFAR-10 Batch 1:  Current Cost: 0.2893899083137512, Current Accuracy: 0.5529999732971191\n",
      "Epoch  8, CIFAR-10 Batch 1:  Current Cost: 0.22564494609832764, Current Accuracy: 0.5395998954772949\n",
      "Epoch  9, CIFAR-10 Batch 1:  Current Cost: 0.1779564619064331, Current Accuracy: 0.5233999490737915\n",
      "Epoch 10, CIFAR-10 Batch 1:  Current Cost: 0.08835645765066147, Current Accuracy: 0.5539999604225159\n",
      "Epoch 11, CIFAR-10 Batch 1:  Current Cost: 0.06941770017147064, Current Accuracy: 0.5539999604225159\n",
      "Epoch 12, CIFAR-10 Batch 1:  Current Cost: 0.03701481223106384, Current Accuracy: 0.5613999366760254\n",
      "Epoch 13, CIFAR-10 Batch 1:  Current Cost: 0.03004700317978859, Current Accuracy: 0.5835999250411987\n",
      "Epoch 14, CIFAR-10 Batch 1:  Current Cost: 0.010067649185657501, Current Accuracy: 0.5443999171257019\n",
      "Epoch 15, CIFAR-10 Batch 1:  Current Cost: 0.010058959946036339, Current Accuracy: 0.5667999386787415\n",
      "Epoch 16, CIFAR-10 Batch 1:  Current Cost: 0.007878818549215794, Current Accuracy: 0.5587999224662781\n",
      "Epoch 17, CIFAR-10 Batch 1:  Current Cost: 0.007205911446362734, Current Accuracy: 0.5535999536514282\n",
      "Epoch 18, CIFAR-10 Batch 1:  Current Cost: 0.006249967496842146, Current Accuracy: 0.5547999143600464\n",
      "Epoch 19, CIFAR-10 Batch 1:  Current Cost: 0.0029697304125875235, Current Accuracy: 0.559999942779541\n",
      "Epoch 20, CIFAR-10 Batch 1:  Current Cost: 0.0039450377225875854, Current Accuracy: 0.5547999739646912\n",
      "Epoch 21, CIFAR-10 Batch 1:  Current Cost: 0.007906735874712467, Current Accuracy: 0.5461999177932739\n",
      "Epoch 22, CIFAR-10 Batch 1:  Current Cost: 0.002231994643807411, Current Accuracy: 0.5473999381065369\n",
      "Epoch 23, CIFAR-10 Batch 1:  Current Cost: 0.0002375534677412361, Current Accuracy: 0.5739999413490295\n",
      "Epoch 24, CIFAR-10 Batch 1:  Current Cost: 0.0006955056451261044, Current Accuracy: 0.5709999203681946\n",
      "Epoch 25, CIFAR-10 Batch 1:  Current Cost: 0.0006068146321922541, Current Accuracy: 0.5729999542236328\n",
      "Epoch 26, CIFAR-10 Batch 1:  Current Cost: 0.00024087002384476364, Current Accuracy: 0.5669999718666077\n",
      "Epoch 27, CIFAR-10 Batch 1:  Current Cost: 0.00021834007930010557, Current Accuracy: 0.5697999000549316\n",
      "Epoch 28, CIFAR-10 Batch 1:  Current Cost: 0.0005255962023511529, Current Accuracy: 0.5631999373435974\n",
      "Epoch 29, CIFAR-10 Batch 1:  Current Cost: 0.0008759338525123894, Current Accuracy: 0.5511999130249023\n",
      "Epoch 30, CIFAR-10 Batch 1:  Current Cost: 0.0004716820258181542, Current Accuracy: 0.5691999197006226\n",
      "Epoch 31, CIFAR-10 Batch 1:  Current Cost: 0.0009127679513767362, Current Accuracy: 0.5669999122619629\n",
      "Epoch 32, CIFAR-10 Batch 1:  Current Cost: 0.0011087429011240602, Current Accuracy: 0.5693999528884888\n",
      "Epoch 33, CIFAR-10 Batch 1:  Current Cost: 0.0014490793691948056, Current Accuracy: 0.5641999244689941\n",
      "Epoch 34, CIFAR-10 Batch 1:  Current Cost: 0.001830283086746931, Current Accuracy: 0.559999942779541\n",
      "Epoch 35, CIFAR-10 Batch 1:  Current Cost: 0.00029184017330408096, Current Accuracy: 0.5573999285697937\n",
      "Epoch 36, CIFAR-10 Batch 1:  Current Cost: 0.005041730590164661, Current Accuracy: 0.5707999467849731\n",
      "Epoch 37, CIFAR-10 Batch 1:  Current Cost: 0.0018054748652502894, Current Accuracy: 0.5621999502182007\n",
      "Epoch 38, CIFAR-10 Batch 1:  Current Cost: 0.0009658292401582003, Current Accuracy: 0.5743999481201172\n",
      "Epoch 39, CIFAR-10 Batch 1:  Current Cost: 0.00282022962346673, Current Accuracy: 0.5755999088287354\n",
      "Epoch 40, CIFAR-10 Batch 1:  Current Cost: 0.00016481272177770734, Current Accuracy: 0.5727999210357666\n",
      "Epoch 41, CIFAR-10 Batch 1:  Current Cost: 0.0018194550648331642, Current Accuracy: 0.5585998892784119\n",
      "Epoch 42, CIFAR-10 Batch 1:  Current Cost: 0.00047511380398645997, Current Accuracy: 0.5585999488830566\n",
      "Epoch 43, CIFAR-10 Batch 1:  Current Cost: 0.0015110679669305682, Current Accuracy: 0.5645999312400818\n",
      "Epoch 44, CIFAR-10 Batch 1:  Current Cost: 0.000710829917807132, Current Accuracy: 0.549799919128418\n",
      "Epoch 45, CIFAR-10 Batch 1:  Current Cost: 0.0011041867546737194, Current Accuracy: 0.5607998967170715\n",
      "Epoch 46, CIFAR-10 Batch 1:  Current Cost: 0.0009207947296090424, Current Accuracy: 0.5565999150276184\n",
      "Epoch 47, CIFAR-10 Batch 1:  Current Cost: 0.0004048166738357395, Current Accuracy: 0.5687999129295349\n",
      "Epoch 48, CIFAR-10 Batch 1:  Current Cost: 0.00016936325118876994, Current Accuracy: 0.5669999122619629\n",
      "Epoch 49, CIFAR-10 Batch 1:  Current Cost: 0.0019321354338899255, Current Accuracy: 0.571199893951416\n",
      "Epoch 50, CIFAR-10 Batch 1:  Current Cost: 0.00032137654488906264, Current Accuracy: 0.5601999759674072\n",
      "Epoch 51, CIFAR-10 Batch 1:  Current Cost: 0.00014464263222180307, Current Accuracy: 0.5799999833106995\n",
      "Epoch 52, CIFAR-10 Batch 1:  Current Cost: 0.00015135371359065175, Current Accuracy: 0.5543999671936035\n",
      "Epoch 53, CIFAR-10 Batch 1:  Current Cost: 0.0006316688959486783, Current Accuracy: 0.5671999454498291\n",
      "Epoch 54, CIFAR-10 Batch 1:  Current Cost: 0.0004651579074561596, Current Accuracy: 0.5753998756408691\n",
      "Epoch 55, CIFAR-10 Batch 1:  Current Cost: 0.0003930854727514088, Current Accuracy: 0.5691999197006226\n",
      "Epoch 56, CIFAR-10 Batch 1:  Current Cost: 0.0015770604368299246, Current Accuracy: 0.5641999244689941\n"
     ]
    }
   ],
   "source": [
    "\"\"\"\n",
    "DON'T MODIFY ANYTHING IN THIS CELL\n",
    "\"\"\"\n",
    "print('Checking the Training on a Single Batch...')\n",
    "with tf.Session() as sess:\n",
    "    # Initializing the variables\n",
    "    sess.run(tf.global_variables_initializer())\n",
    "    \n",
    "    # Training cycle\n",
    "    for epoch in range(epochs):\n",
    "        batch_i = 1\n",
    "        for batch_features, batch_labels in helper.load_preprocess_training_batch(batch_i, batch_size):\n",
    "            train_neural_network(sess, optimizer, keep_probability, batch_features, batch_labels)\n",
    "        print('Epoch {:>2}, CIFAR-10 Batch {}:  '.format(epoch + 1, batch_i), end='')\n",
    "        print_stats(sess, batch_features, batch_labels, cost, accuracy)"
   ]
  },
  {
   "cell_type": "markdown",
   "metadata": {
    "deletable": true,
    "editable": true
   },
   "source": [
    "### Fully Train the Model\n",
    "Now that you got a good accuracy with a single CIFAR-10 batch, try it with all five batches."
   ]
  },
  {
   "cell_type": "code",
   "execution_count": 130,
   "metadata": {
    "collapsed": false,
    "deletable": true,
    "editable": true
   },
   "outputs": [
    {
     "name": "stdout",
     "output_type": "stream",
     "text": [
      "Training...\n",
      "Epoch  1, CIFAR-10 Batch 1:  Current Cost: 1.9768784046173096, Current Accuracy: 0.36879995465278625\n",
      "Epoch  1, CIFAR-10 Batch 2:  Current Cost: 1.5010457038879395, Current Accuracy: 0.4259999990463257\n",
      "Epoch  1, CIFAR-10 Batch 3:  Current Cost: 1.232738733291626, Current Accuracy: 0.4777999222278595\n",
      "Epoch  1, CIFAR-10 Batch 4:  Current Cost: 1.2157504558563232, Current Accuracy: 0.519599974155426\n",
      "Epoch  1, CIFAR-10 Batch 5:  Current Cost: 1.3032125234603882, Current Accuracy: 0.5613999366760254\n",
      "Epoch  2, CIFAR-10 Batch 1:  Current Cost: 1.1315044164657593, Current Accuracy: 0.5575999021530151\n",
      "Epoch  2, CIFAR-10 Batch 2:  Current Cost: 1.0549290180206299, Current Accuracy: 0.5429999232292175\n",
      "Epoch  2, CIFAR-10 Batch 3:  Current Cost: 0.8926525115966797, Current Accuracy: 0.577799916267395\n",
      "Epoch  2, CIFAR-10 Batch 4:  Current Cost: 0.7579196691513062, Current Accuracy: 0.5935999155044556\n",
      "Epoch  2, CIFAR-10 Batch 5:  Current Cost: 0.821340024471283, Current Accuracy: 0.6251999139785767\n",
      "Epoch  3, CIFAR-10 Batch 1:  Current Cost: 0.9064640402793884, Current Accuracy: 0.6165999174118042\n",
      "Epoch  3, CIFAR-10 Batch 2:  Current Cost: 0.620090126991272, Current Accuracy: 0.6091998815536499\n",
      "Epoch  3, CIFAR-10 Batch 3:  Current Cost: 0.5178759098052979, Current Accuracy: 0.6253999471664429\n",
      "Epoch  3, CIFAR-10 Batch 4:  Current Cost: 0.5125976204872131, Current Accuracy: 0.6487998962402344\n",
      "Epoch  3, CIFAR-10 Batch 5:  Current Cost: 0.449521541595459, Current Accuracy: 0.6549999117851257\n",
      "Epoch  4, CIFAR-10 Batch 1:  Current Cost: 0.6095148921012878, Current Accuracy: 0.6385999321937561\n",
      "Epoch  4, CIFAR-10 Batch 2:  Current Cost: 0.4294716417789459, Current Accuracy: 0.6447998285293579\n",
      "Epoch  4, CIFAR-10 Batch 3:  Current Cost: 0.29118794202804565, Current Accuracy: 0.6447998881340027\n",
      "Epoch  4, CIFAR-10 Batch 4:  Current Cost: 0.2795688509941101, Current Accuracy: 0.6673999428749084\n",
      "Epoch  4, CIFAR-10 Batch 5:  Current Cost: 0.2411392331123352, Current Accuracy: 0.6723998785018921\n",
      "Epoch  5, CIFAR-10 Batch 1:  Current Cost: 0.3795362710952759, Current Accuracy: 0.6373999118804932\n",
      "Epoch  5, CIFAR-10 Batch 2:  Current Cost: 0.23863667249679565, Current Accuracy: 0.6707999110221863\n",
      "Epoch  5, CIFAR-10 Batch 3:  Current Cost: 0.14085543155670166, Current Accuracy: 0.6539998650550842\n",
      "Epoch  5, CIFAR-10 Batch 4:  Current Cost: 0.16482087969779968, Current Accuracy: 0.6531999111175537\n",
      "Epoch  5, CIFAR-10 Batch 5:  Current Cost: 0.15726613998413086, Current Accuracy: 0.6587998867034912\n",
      "Epoch  6, CIFAR-10 Batch 1:  Current Cost: 0.24574550986289978, Current Accuracy: 0.6673998832702637\n",
      "Epoch  6, CIFAR-10 Batch 2:  Current Cost: 0.14983412623405457, Current Accuracy: 0.678199827671051\n",
      "Epoch  6, CIFAR-10 Batch 3:  Current Cost: 0.059466928243637085, Current Accuracy: 0.6649999022483826\n",
      "Epoch  6, CIFAR-10 Batch 4:  Current Cost: 0.11116907000541687, Current Accuracy: 0.6519998908042908\n",
      "Epoch  6, CIFAR-10 Batch 5:  Current Cost: 0.0847846046090126, Current Accuracy: 0.6625998616218567\n",
      "Epoch  7, CIFAR-10 Batch 1:  Current Cost: 0.1366686224937439, Current Accuracy: 0.6611998081207275\n",
      "Epoch  7, CIFAR-10 Batch 2:  Current Cost: 0.05583380535244942, Current Accuracy: 0.6781998872756958\n",
      "Epoch  7, CIFAR-10 Batch 3:  Current Cost: 0.057831428945064545, Current Accuracy: 0.6649998426437378\n",
      "Epoch  7, CIFAR-10 Batch 4:  Current Cost: 0.08576284348964691, Current Accuracy: 0.6725999712944031\n",
      "Epoch  7, CIFAR-10 Batch 5:  Current Cost: 0.05157068371772766, Current Accuracy: 0.6675999164581299\n",
      "Epoch  8, CIFAR-10 Batch 1:  Current Cost: 0.05886305868625641, Current Accuracy: 0.6839998364448547\n",
      "Epoch  8, CIFAR-10 Batch 2:  Current Cost: 0.03276079520583153, Current Accuracy: 0.6599998474121094\n",
      "Epoch  8, CIFAR-10 Batch 3:  Current Cost: 0.02800600603222847, Current Accuracy: 0.6649998426437378\n",
      "Epoch  8, CIFAR-10 Batch 4:  Current Cost: 0.0766831636428833, Current Accuracy: 0.6711998581886292\n",
      "Epoch  8, CIFAR-10 Batch 5:  Current Cost: 0.03165778890252113, Current Accuracy: 0.671799898147583\n",
      "Epoch  9, CIFAR-10 Batch 1:  Current Cost: 0.04062076285481453, Current Accuracy: 0.6749998331069946\n",
      "Epoch  9, CIFAR-10 Batch 2:  Current Cost: 0.03246952220797539, Current Accuracy: 0.6713998317718506\n",
      "Epoch  9, CIFAR-10 Batch 3:  Current Cost: 0.02499881014227867, Current Accuracy: 0.6667998433113098\n",
      "Epoch  9, CIFAR-10 Batch 4:  Current Cost: 0.029119528830051422, Current Accuracy: 0.6575998663902283\n",
      "Epoch  9, CIFAR-10 Batch 5:  Current Cost: 0.017032073810696602, Current Accuracy: 0.6777998208999634\n",
      "Epoch 10, CIFAR-10 Batch 1:  Current Cost: 0.02107403799891472, Current Accuracy: 0.6759998798370361\n",
      "Epoch 10, CIFAR-10 Batch 2:  Current Cost: 0.008830669336020947, Current Accuracy: 0.6797999143600464\n",
      "Epoch 10, CIFAR-10 Batch 3:  Current Cost: 0.018577881157398224, Current Accuracy: 0.6855998635292053\n",
      "Epoch 10, CIFAR-10 Batch 4:  Current Cost: 0.02541336789727211, Current Accuracy: 0.6427998542785645\n",
      "Epoch 10, CIFAR-10 Batch 5:  Current Cost: 0.010782502591609955, Current Accuracy: 0.6479998826980591\n",
      "Epoch 11, CIFAR-10 Batch 1:  Current Cost: 0.02980806678533554, Current Accuracy: 0.6759998202323914\n",
      "Epoch 11, CIFAR-10 Batch 2:  Current Cost: 0.009569152258336544, Current Accuracy: 0.6789999008178711\n",
      "Epoch 11, CIFAR-10 Batch 3:  Current Cost: 0.013452975079417229, Current Accuracy: 0.6719998717308044\n",
      "Epoch 11, CIFAR-10 Batch 4:  Current Cost: 0.007481663953512907, Current Accuracy: 0.6649999022483826\n",
      "Epoch 11, CIFAR-10 Batch 5:  Current Cost: 0.01243780367076397, Current Accuracy: 0.6847999095916748\n",
      "Epoch 12, CIFAR-10 Batch 1:  Current Cost: 0.011977856047451496, Current Accuracy: 0.6689999103546143\n",
      "Epoch 12, CIFAR-10 Batch 2:  Current Cost: 0.0066856867633759975, Current Accuracy: 0.6705998778343201\n",
      "Epoch 12, CIFAR-10 Batch 3:  Current Cost: 0.007255737204104662, Current Accuracy: 0.6571998596191406\n",
      "Epoch 12, CIFAR-10 Batch 4:  Current Cost: 0.008403927087783813, Current Accuracy: 0.6769998669624329\n",
      "Epoch 12, CIFAR-10 Batch 5:  Current Cost: 0.015768926590681076, Current Accuracy: 0.6855999231338501\n",
      "Epoch 13, CIFAR-10 Batch 1:  Current Cost: 0.008961211889982224, Current Accuracy: 0.6691998839378357\n",
      "Epoch 13, CIFAR-10 Batch 2:  Current Cost: 0.005741475149989128, Current Accuracy: 0.6617998480796814\n",
      "Epoch 13, CIFAR-10 Batch 3:  Current Cost: 0.004245867021381855, Current Accuracy: 0.6851999163627625\n",
      "Epoch 13, CIFAR-10 Batch 4:  Current Cost: 0.006868164986371994, Current Accuracy: 0.6701998114585876\n",
      "Epoch 13, CIFAR-10 Batch 5:  Current Cost: 0.01180309895426035, Current Accuracy: 0.6961998343467712\n",
      "Epoch 14, CIFAR-10 Batch 1:  Current Cost: 0.004593324847519398, Current Accuracy: 0.6779998540878296\n",
      "Epoch 14, CIFAR-10 Batch 2:  Current Cost: 0.003060236806049943, Current Accuracy: 0.6805999279022217\n",
      "Epoch 14, CIFAR-10 Batch 3:  Current Cost: 0.017082959413528442, Current Accuracy: 0.6785998344421387\n",
      "Epoch 14, CIFAR-10 Batch 4:  Current Cost: 0.0025493174325674772, Current Accuracy: 0.6845998764038086\n",
      "Epoch 14, CIFAR-10 Batch 5:  Current Cost: 0.006180454045534134, Current Accuracy: 0.6897998452186584\n",
      "Epoch 15, CIFAR-10 Batch 1:  Current Cost: 0.0024291686713695526, Current Accuracy: 0.6833997964859009\n",
      "Epoch 15, CIFAR-10 Batch 2:  Current Cost: 0.0007256778771989048, Current Accuracy: 0.6723998785018921\n",
      "Epoch 15, CIFAR-10 Batch 3:  Current Cost: 0.002952645067125559, Current Accuracy: 0.6829999089241028\n",
      "Epoch 15, CIFAR-10 Batch 4:  Current Cost: 0.002546580508351326, Current Accuracy: 0.685999870300293\n",
      "Epoch 15, CIFAR-10 Batch 5:  Current Cost: 0.0012437596451491117, Current Accuracy: 0.7009998559951782\n",
      "Epoch 16, CIFAR-10 Batch 1:  Current Cost: 0.002165712183341384, Current Accuracy: 0.68479984998703\n",
      "Epoch 16, CIFAR-10 Batch 2:  Current Cost: 0.0029580926056951284, Current Accuracy: 0.6801998615264893\n",
      "Epoch 16, CIFAR-10 Batch 3:  Current Cost: 0.0034898892045021057, Current Accuracy: 0.6935998797416687\n",
      "Epoch 16, CIFAR-10 Batch 4:  Current Cost: 0.006636808626353741, Current Accuracy: 0.6935998201370239\n",
      "Epoch 16, CIFAR-10 Batch 5:  Current Cost: 0.0008974570664577186, Current Accuracy: 0.6845998764038086\n",
      "Epoch 17, CIFAR-10 Batch 1:  Current Cost: 0.0013642521807923913, Current Accuracy: 0.6851998567581177\n",
      "Epoch 17, CIFAR-10 Batch 2:  Current Cost: 0.0014703163178637624, Current Accuracy: 0.6705998182296753\n",
      "Epoch 17, CIFAR-10 Batch 3:  Current Cost: 0.002553952857851982, Current Accuracy: 0.6799998879432678\n",
      "Epoch 17, CIFAR-10 Batch 4:  Current Cost: 0.001361033646389842, Current Accuracy: 0.6861998438835144\n",
      "Epoch 17, CIFAR-10 Batch 5:  Current Cost: 0.0009919083677232265, Current Accuracy: 0.6853998303413391\n",
      "Epoch 18, CIFAR-10 Batch 1:  Current Cost: 0.006898294668644667, Current Accuracy: 0.6789999008178711\n",
      "Epoch 18, CIFAR-10 Batch 2:  Current Cost: 0.00608417484909296, Current Accuracy: 0.6751999258995056\n",
      "Epoch 18, CIFAR-10 Batch 3:  Current Cost: 0.00029021938098594546, Current Accuracy: 0.6839998960494995\n",
      "Epoch 18, CIFAR-10 Batch 4:  Current Cost: 0.0017772234277799726, Current Accuracy: 0.6927998661994934\n",
      "Epoch 18, CIFAR-10 Batch 5:  Current Cost: 0.0009366253507323563, Current Accuracy: 0.6893998980522156\n",
      "Epoch 19, CIFAR-10 Batch 1:  Current Cost: 0.002107506850734353, Current Accuracy: 0.6947998404502869\n",
      "Epoch 19, CIFAR-10 Batch 2:  Current Cost: 0.001661673653870821, Current Accuracy: 0.691399872303009\n",
      "Epoch 19, CIFAR-10 Batch 3:  Current Cost: 0.0011019583325833082, Current Accuracy: 0.6957998275756836\n",
      "Epoch 19, CIFAR-10 Batch 4:  Current Cost: 0.002683647908270359, Current Accuracy: 0.6987998485565186\n",
      "Epoch 19, CIFAR-10 Batch 5:  Current Cost: 0.0006424543098546565, Current Accuracy: 0.6825998425483704\n",
      "Epoch 20, CIFAR-10 Batch 1:  Current Cost: 0.00601342273876071, Current Accuracy: 0.6867998838424683\n",
      "Epoch 20, CIFAR-10 Batch 2:  Current Cost: 0.0003835723618976772, Current Accuracy: 0.6837998628616333\n",
      "Epoch 20, CIFAR-10 Batch 3:  Current Cost: 0.004210842773318291, Current Accuracy: 0.676399827003479\n",
      "Epoch 20, CIFAR-10 Batch 4:  Current Cost: 0.003300121985375881, Current Accuracy: 0.6851998567581177\n",
      "Epoch 20, CIFAR-10 Batch 5:  Current Cost: 0.0009839085396379232, Current Accuracy: 0.6751998662948608\n",
      "Epoch 21, CIFAR-10 Batch 1:  Current Cost: 0.0027072958182543516, Current Accuracy: 0.6833999156951904\n",
      "Epoch 21, CIFAR-10 Batch 2:  Current Cost: 0.0008590720244683325, Current Accuracy: 0.6907998323440552\n",
      "Epoch 21, CIFAR-10 Batch 3:  Current Cost: 3.3292068110313267e-05, Current Accuracy: 0.7023998498916626\n",
      "Epoch 21, CIFAR-10 Batch 4:  Current Cost: 0.0018808352760970592, Current Accuracy: 0.6917998790740967\n",
      "Epoch 21, CIFAR-10 Batch 5:  Current Cost: 0.0033568167127668858, Current Accuracy: 0.6795998811721802\n",
      "Epoch 22, CIFAR-10 Batch 1:  Current Cost: 0.003008770989254117, Current Accuracy: 0.6831998825073242\n",
      "Epoch 22, CIFAR-10 Batch 2:  Current Cost: 0.002370379399508238, Current Accuracy: 0.6855998635292053\n",
      "Epoch 22, CIFAR-10 Batch 3:  Current Cost: 0.0024068672209978104, Current Accuracy: 0.6935998797416687\n",
      "Epoch 22, CIFAR-10 Batch 4:  Current Cost: 0.0004935922333970666, Current Accuracy: 0.691399872303009\n",
      "Epoch 22, CIFAR-10 Batch 5:  Current Cost: 0.0011004385305568576, Current Accuracy: 0.6915999054908752\n",
      "Epoch 23, CIFAR-10 Batch 1:  Current Cost: 0.0017292421543970704, Current Accuracy: 0.6923998594284058\n",
      "Epoch 23, CIFAR-10 Batch 2:  Current Cost: 0.0002818141074385494, Current Accuracy: 0.6849998235702515\n",
      "Epoch 23, CIFAR-10 Batch 3:  Current Cost: 6.055401172488928e-05, Current Accuracy: 0.6987998485565186\n",
      "Epoch 23, CIFAR-10 Batch 4:  Current Cost: 0.001337534748017788, Current Accuracy: 0.682999849319458\n",
      "Epoch 23, CIFAR-10 Batch 5:  Current Cost: 0.0018574133282527328, Current Accuracy: 0.6951998472213745\n",
      "Epoch 24, CIFAR-10 Batch 1:  Current Cost: 0.00631513400003314, Current Accuracy: 0.6851998567581177\n",
      "Epoch 24, CIFAR-10 Batch 2:  Current Cost: 0.0007330990629270673, Current Accuracy: 0.6897998452186584\n",
      "Epoch 24, CIFAR-10 Batch 3:  Current Cost: 0.0005256127915345132, Current Accuracy: 0.7005998492240906\n",
      "Epoch 24, CIFAR-10 Batch 4:  Current Cost: 0.007931920699775219, Current Accuracy: 0.6981998682022095\n",
      "Epoch 24, CIFAR-10 Batch 5:  Current Cost: 0.0008568811463192105, Current Accuracy: 0.6841999292373657\n",
      "Epoch 25, CIFAR-10 Batch 1:  Current Cost: 0.0008530784398317337, Current Accuracy: 0.682999849319458\n",
      "Epoch 25, CIFAR-10 Batch 2:  Current Cost: 0.0011326149106025696, Current Accuracy: 0.6947999000549316\n",
      "Epoch 25, CIFAR-10 Batch 3:  Current Cost: 0.0007390438113361597, Current Accuracy: 0.685999870300293\n",
      "Epoch 25, CIFAR-10 Batch 4:  Current Cost: 0.005151774268597364, Current Accuracy: 0.6865999102592468\n",
      "Epoch 25, CIFAR-10 Batch 5:  Current Cost: 0.0014971534255892038, Current Accuracy: 0.6755999326705933\n",
      "Epoch 26, CIFAR-10 Batch 1:  Current Cost: 0.005527155008167028, Current Accuracy: 0.6949999332427979\n",
      "Epoch 26, CIFAR-10 Batch 2:  Current Cost: 0.0012147293891757727, Current Accuracy: 0.6867998838424683\n",
      "Epoch 26, CIFAR-10 Batch 3:  Current Cost: 0.00026997749228030443, Current Accuracy: 0.6999998688697815\n",
      "Epoch 26, CIFAR-10 Batch 4:  Current Cost: 0.0005241261096671224, Current Accuracy: 0.6953998804092407\n",
      "Epoch 26, CIFAR-10 Batch 5:  Current Cost: 0.0007375302957370877, Current Accuracy: 0.6905999183654785\n",
      "Epoch 27, CIFAR-10 Batch 1:  Current Cost: 0.001621532952412963, Current Accuracy: 0.6887998580932617\n",
      "Epoch 27, CIFAR-10 Batch 2:  Current Cost: 0.00014562616706825793, Current Accuracy: 0.6869998574256897\n",
      "Epoch 27, CIFAR-10 Batch 3:  Current Cost: 0.0007107978453859687, Current Accuracy: 0.6839998364448547\n",
      "Epoch 27, CIFAR-10 Batch 4:  Current Cost: 0.0012537396978586912, Current Accuracy: 0.6827998757362366\n",
      "Epoch 27, CIFAR-10 Batch 5:  Current Cost: 0.005004038102924824, Current Accuracy: 0.6685998439788818\n",
      "Epoch 28, CIFAR-10 Batch 1:  Current Cost: 0.0017016638303175569, Current Accuracy: 0.6959998607635498\n",
      "Epoch 28, CIFAR-10 Batch 2:  Current Cost: 0.0005439297528937459, Current Accuracy: 0.6863998174667358\n",
      "Epoch 28, CIFAR-10 Batch 3:  Current Cost: 0.0009362988057546318, Current Accuracy: 0.6855998635292053\n",
      "Epoch 28, CIFAR-10 Batch 4:  Current Cost: 0.0003650755970738828, Current Accuracy: 0.6889998912811279\n",
      "Epoch 28, CIFAR-10 Batch 5:  Current Cost: 0.0006182479555718601, Current Accuracy: 0.6743998527526855\n",
      "Epoch 29, CIFAR-10 Batch 1:  Current Cost: 0.0013332066591829062, Current Accuracy: 0.6909998059272766\n",
      "Epoch 29, CIFAR-10 Batch 2:  Current Cost: 0.00044780393363907933, Current Accuracy: 0.6905998587608337\n",
      "Epoch 29, CIFAR-10 Batch 3:  Current Cost: 0.0003878370625898242, Current Accuracy: 0.7017998695373535\n",
      "Epoch 29, CIFAR-10 Batch 4:  Current Cost: 0.00017726904479786754, Current Accuracy: 0.6809998154640198\n",
      "Epoch 29, CIFAR-10 Batch 5:  Current Cost: 0.0003333556232973933, Current Accuracy: 0.6901999115943909\n",
      "Epoch 30, CIFAR-10 Batch 1:  Current Cost: 0.0006115828291513026, Current Accuracy: 0.6955998539924622\n",
      "Epoch 30, CIFAR-10 Batch 2:  Current Cost: 0.0003537134325597435, Current Accuracy: 0.6881998777389526\n",
      "Epoch 30, CIFAR-10 Batch 3:  Current Cost: 8.506040467182174e-05, Current Accuracy: 0.696199893951416\n",
      "Epoch 30, CIFAR-10 Batch 4:  Current Cost: 0.00018893141532316804, Current Accuracy: 0.6929998993873596\n",
      "Epoch 30, CIFAR-10 Batch 5:  Current Cost: 0.00022939335030969232, Current Accuracy: 0.6785998940467834\n",
      "Epoch 31, CIFAR-10 Batch 1:  Current Cost: 0.0003324219142086804, Current Accuracy: 0.6935998201370239\n",
      "Epoch 31, CIFAR-10 Batch 2:  Current Cost: 0.0004735401598736644, Current Accuracy: 0.6725999116897583\n",
      "Epoch 31, CIFAR-10 Batch 3:  Current Cost: 0.0001779653539415449, Current Accuracy: 0.6909998655319214\n",
      "Epoch 31, CIFAR-10 Batch 4:  Current Cost: 0.000674489769153297, Current Accuracy: 0.6889998316764832\n",
      "Epoch 31, CIFAR-10 Batch 5:  Current Cost: 0.00019713961228262633, Current Accuracy: 0.6865999102592468\n",
      "Epoch 32, CIFAR-10 Batch 1:  Current Cost: 0.0011474144412204623, Current Accuracy: 0.6935998797416687\n",
      "Epoch 32, CIFAR-10 Batch 2:  Current Cost: 0.0002264128706883639, Current Accuracy: 0.6851998567581177\n",
      "Epoch 32, CIFAR-10 Batch 3:  Current Cost: 0.004140105564147234, Current Accuracy: 0.7005999088287354\n",
      "Epoch 32, CIFAR-10 Batch 4:  Current Cost: 0.00017123705765698105, Current Accuracy: 0.6933998465538025\n",
      "Epoch 32, CIFAR-10 Batch 5:  Current Cost: 8.420539234066382e-05, Current Accuracy: 0.6781999468803406\n",
      "Epoch 33, CIFAR-10 Batch 1:  Current Cost: 0.0007469421252608299, Current Accuracy: 0.6963998079299927\n",
      "Epoch 33, CIFAR-10 Batch 2:  Current Cost: 0.0010432127164676785, Current Accuracy: 0.6801998615264893\n",
      "Epoch 33, CIFAR-10 Batch 3:  Current Cost: 0.0010165332350879908, Current Accuracy: 0.6911998987197876\n",
      "Epoch 33, CIFAR-10 Batch 4:  Current Cost: 0.00041383219650015235, Current Accuracy: 0.6969997882843018\n",
      "Epoch 33, CIFAR-10 Batch 5:  Current Cost: 0.006050866097211838, Current Accuracy: 0.6919998526573181\n",
      "Epoch 34, CIFAR-10 Batch 1:  Current Cost: 0.0009308670996688306, Current Accuracy: 0.6969998478889465\n",
      "Epoch 34, CIFAR-10 Batch 2:  Current Cost: 2.5279623514506966e-05, Current Accuracy: 0.6947999000549316\n",
      "Epoch 34, CIFAR-10 Batch 3:  Current Cost: 0.0008777640759944916, Current Accuracy: 0.6869997978210449\n",
      "Epoch 34, CIFAR-10 Batch 4:  Current Cost: 0.0008628438226878643, Current Accuracy: 0.6925998330116272\n",
      "Epoch 34, CIFAR-10 Batch 5:  Current Cost: 0.001331603736616671, Current Accuracy: 0.6855999231338501\n",
      "Epoch 35, CIFAR-10 Batch 1:  Current Cost: 0.0008466432336717844, Current Accuracy: 0.6867998242378235\n",
      "Epoch 35, CIFAR-10 Batch 2:  Current Cost: 0.00016827811487019062, Current Accuracy: 0.6881998777389526\n",
      "Epoch 35, CIFAR-10 Batch 3:  Current Cost: 0.0033387152943760157, Current Accuracy: 0.6967998743057251\n",
      "Epoch 35, CIFAR-10 Batch 4:  Current Cost: 0.00033810295281000435, Current Accuracy: 0.6901998519897461\n",
      "Epoch 35, CIFAR-10 Batch 5:  Current Cost: 0.0037181598600000143, Current Accuracy: 0.7035998106002808\n",
      "Epoch 36, CIFAR-10 Batch 1:  Current Cost: 0.0008553360239602625, Current Accuracy: 0.6873998641967773\n",
      "Epoch 36, CIFAR-10 Batch 2:  Current Cost: 3.256079799029976e-05, Current Accuracy: 0.6915998458862305\n",
      "Epoch 36, CIFAR-10 Batch 3:  Current Cost: 0.0003034509427379817, Current Accuracy: 0.6919999122619629\n",
      "Epoch 36, CIFAR-10 Batch 4:  Current Cost: 0.0003087973454967141, Current Accuracy: 0.7073997855186462\n",
      "Epoch 36, CIFAR-10 Batch 5:  Current Cost: 0.0007502450025640428, Current Accuracy: 0.7001998424530029\n",
      "Epoch 37, CIFAR-10 Batch 1:  Current Cost: 0.00023539601534139365, Current Accuracy: 0.702599823474884\n",
      "Epoch 37, CIFAR-10 Batch 2:  Current Cost: 0.001003873534500599, Current Accuracy: 0.6837998628616333\n",
      "Epoch 37, CIFAR-10 Batch 3:  Current Cost: 5.358281487133354e-05, Current Accuracy: 0.6955999135971069\n",
      "Epoch 37, CIFAR-10 Batch 4:  Current Cost: 0.00317130028270185, Current Accuracy: 0.6909998655319214\n",
      "Epoch 37, CIFAR-10 Batch 5:  Current Cost: 0.006488040089607239, Current Accuracy: 0.6915998458862305\n",
      "Epoch 38, CIFAR-10 Batch 1:  Current Cost: 0.0011290826369076967, Current Accuracy: 0.7007998824119568\n",
      "Epoch 38, CIFAR-10 Batch 2:  Current Cost: 0.0002292958670295775, Current Accuracy: 0.6951998472213745\n",
      "Epoch 38, CIFAR-10 Batch 3:  Current Cost: 0.0011344815138727427, Current Accuracy: 0.6933999061584473\n",
      "Epoch 38, CIFAR-10 Batch 4:  Current Cost: 0.00033700288622640073, Current Accuracy: 0.6867998838424683\n",
      "Epoch 38, CIFAR-10 Batch 5:  Current Cost: 0.0008726307423785329, Current Accuracy: 0.6855998039245605\n",
      "Epoch 39, CIFAR-10 Batch 1:  Current Cost: 0.006735149770975113, Current Accuracy: 0.7005999088287354\n",
      "Epoch 39, CIFAR-10 Batch 2:  Current Cost: 0.001422254485078156, Current Accuracy: 0.689599871635437\n",
      "Epoch 39, CIFAR-10 Batch 3:  Current Cost: 0.0012504819314926863, Current Accuracy: 0.6823998689651489\n",
      "Epoch 39, CIFAR-10 Batch 4:  Current Cost: 7.34439236111939e-05, Current Accuracy: 0.6799999475479126\n",
      "Epoch 39, CIFAR-10 Batch 5:  Current Cost: 0.0005456937360577285, Current Accuracy: 0.6939998269081116\n",
      "Epoch 40, CIFAR-10 Batch 1:  Current Cost: 0.0009529145900160074, Current Accuracy: 0.6985998749732971\n",
      "Epoch 40, CIFAR-10 Batch 2:  Current Cost: 0.0009492156677879393, Current Accuracy: 0.6787998676300049\n",
      "Epoch 40, CIFAR-10 Batch 3:  Current Cost: 0.0005894209025427699, Current Accuracy: 0.6939998865127563\n",
      "Epoch 40, CIFAR-10 Batch 4:  Current Cost: 0.0010357301216572523, Current Accuracy: 0.6873998641967773\n",
      "Epoch 40, CIFAR-10 Batch 5:  Current Cost: 0.00033037664252333343, Current Accuracy: 0.6935998797416687\n",
      "Epoch 41, CIFAR-10 Batch 1:  Current Cost: 0.0002507683529984206, Current Accuracy: 0.6955999135971069\n",
      "Epoch 41, CIFAR-10 Batch 2:  Current Cost: 2.6907402570941485e-05, Current Accuracy: 0.6873998641967773\n",
      "Epoch 41, CIFAR-10 Batch 3:  Current Cost: 0.0014815524918958545, Current Accuracy: 0.6909998059272766\n",
      "Epoch 41, CIFAR-10 Batch 4:  Current Cost: 0.0008095572702586651, Current Accuracy: 0.6871998310089111\n",
      "Epoch 41, CIFAR-10 Batch 5:  Current Cost: 0.0006754486239515245, Current Accuracy: 0.6925997734069824\n",
      "Epoch 42, CIFAR-10 Batch 1:  Current Cost: 0.0011462396942079067, Current Accuracy: 0.6941998600959778\n",
      "Epoch 42, CIFAR-10 Batch 2:  Current Cost: 0.0001557488867547363, Current Accuracy: 0.689599871635437\n",
      "Epoch 42, CIFAR-10 Batch 3:  Current Cost: 0.0036179590970277786, Current Accuracy: 0.6851998567581177\n",
      "Epoch 42, CIFAR-10 Batch 4:  Current Cost: 0.0003605507081374526, Current Accuracy: 0.6761999130249023\n",
      "Epoch 42, CIFAR-10 Batch 5:  Current Cost: 0.040756989270448685, Current Accuracy: 0.6631999015808105\n",
      "Epoch 43, CIFAR-10 Batch 1:  Current Cost: 0.0005996683612465858, Current Accuracy: 0.700799822807312\n",
      "Epoch 43, CIFAR-10 Batch 2:  Current Cost: 2.0878866052953526e-05, Current Accuracy: 0.681999921798706\n",
      "Epoch 43, CIFAR-10 Batch 3:  Current Cost: 0.00012167452950961888, Current Accuracy: 0.6963998675346375\n",
      "Epoch 43, CIFAR-10 Batch 4:  Current Cost: 0.0014640369918197393, Current Accuracy: 0.6879999041557312\n",
      "Epoch 43, CIFAR-10 Batch 5:  Current Cost: 0.00018986120994668454, Current Accuracy: 0.6881998777389526\n",
      "Epoch 44, CIFAR-10 Batch 1:  Current Cost: 0.0004083162057213485, Current Accuracy: 0.6949999332427979\n",
      "Epoch 44, CIFAR-10 Batch 2:  Current Cost: 2.2337382688419893e-05, Current Accuracy: 0.6945998668670654\n",
      "Epoch 44, CIFAR-10 Batch 3:  Current Cost: 3.665832264232449e-05, Current Accuracy: 0.6971998810768127\n",
      "Epoch 44, CIFAR-10 Batch 4:  Current Cost: 0.00035819195909425616, Current Accuracy: 0.6919998526573181\n",
      "Epoch 44, CIFAR-10 Batch 5:  Current Cost: 0.011508169583976269, Current Accuracy: 0.6929998993873596\n",
      "Epoch 45, CIFAR-10 Batch 1:  Current Cost: 0.0001273931557079777, Current Accuracy: 0.6987998485565186\n",
      "Epoch 45, CIFAR-10 Batch 2:  Current Cost: 0.00028052699053660035, Current Accuracy: 0.6887998580932617\n",
      "Epoch 45, CIFAR-10 Batch 3:  Current Cost: 4.288467607693747e-06, Current Accuracy: 0.6935998797416687\n",
      "Epoch 45, CIFAR-10 Batch 4:  Current Cost: 2.488983955117874e-05, Current Accuracy: 0.695399820804596\n",
      "Epoch 45, CIFAR-10 Batch 5:  Current Cost: 0.0002448374289087951, Current Accuracy: 0.6815998554229736\n",
      "Epoch 46, CIFAR-10 Batch 1:  Current Cost: 0.0002287455863552168, Current Accuracy: 0.7015998363494873\n",
      "Epoch 46, CIFAR-10 Batch 2:  Current Cost: 0.0022846499923616648, Current Accuracy: 0.6923998594284058\n",
      "Epoch 46, CIFAR-10 Batch 3:  Current Cost: 0.000522302114404738, Current Accuracy: 0.6901998519897461\n",
      "Epoch 46, CIFAR-10 Batch 4:  Current Cost: 0.00016058553592301905, Current Accuracy: 0.6919999122619629\n",
      "Epoch 46, CIFAR-10 Batch 5:  Current Cost: 0.0010942997178062797, Current Accuracy: 0.6953999400138855\n",
      "Epoch 47, CIFAR-10 Batch 1:  Current Cost: 0.0007626681472174823, Current Accuracy: 0.6999998688697815\n",
      "Epoch 47, CIFAR-10 Batch 2:  Current Cost: 2.6091292966157198e-05, Current Accuracy: 0.693199872970581\n",
      "Epoch 47, CIFAR-10 Batch 3:  Current Cost: 0.00010219414252787828, Current Accuracy: 0.6973997950553894\n",
      "Epoch 47, CIFAR-10 Batch 4:  Current Cost: 0.0001970702433027327, Current Accuracy: 0.6915999054908752\n",
      "Epoch 47, CIFAR-10 Batch 5:  Current Cost: 0.0009529547533020377, Current Accuracy: 0.6921998858451843\n",
      "Epoch 48, CIFAR-10 Batch 1:  Current Cost: 0.0007988469442352653, Current Accuracy: 0.6871998310089111\n",
      "Epoch 48, CIFAR-10 Batch 2:  Current Cost: 8.448047083220445e-06, Current Accuracy: 0.6947999000549316\n",
      "Epoch 48, CIFAR-10 Batch 3:  Current Cost: 0.0003535135474521667, Current Accuracy: 0.6955998539924622\n",
      "Epoch 48, CIFAR-10 Batch 4:  Current Cost: 5.800280996481888e-05, Current Accuracy: 0.6999998688697815\n",
      "Epoch 48, CIFAR-10 Batch 5:  Current Cost: 0.00010039805056294426, Current Accuracy: 0.6885998249053955\n",
      "Epoch 49, CIFAR-10 Batch 1:  Current Cost: 0.00021087302593514323, Current Accuracy: 0.694399893283844\n",
      "Epoch 49, CIFAR-10 Batch 2:  Current Cost: 7.795770943630487e-05, Current Accuracy: 0.6743998527526855\n",
      "Epoch 49, CIFAR-10 Batch 3:  Current Cost: 0.00018671780708245933, Current Accuracy: 0.6997998952865601\n",
      "Epoch 49, CIFAR-10 Batch 4:  Current Cost: 0.0021191341802477837, Current Accuracy: 0.6887997984886169\n",
      "Epoch 49, CIFAR-10 Batch 5:  Current Cost: 0.001050708000548184, Current Accuracy: 0.694399893283844\n",
      "Epoch 50, CIFAR-10 Batch 1:  Current Cost: 3.5493744690029416e-06, Current Accuracy: 0.6985998749732971\n",
      "Epoch 50, CIFAR-10 Batch 2:  Current Cost: 0.0008199212024919689, Current Accuracy: 0.6871998906135559\n",
      "Epoch 50, CIFAR-10 Batch 3:  Current Cost: 8.404201707890024e-07, Current Accuracy: 0.7033997774124146\n",
      "Epoch 50, CIFAR-10 Batch 4:  Current Cost: 0.001585323945619166, Current Accuracy: 0.6919998526573181\n",
      "Epoch 50, CIFAR-10 Batch 5:  Current Cost: 0.0001044443852151744, Current Accuracy: 0.697399914264679\n",
      "Epoch 51, CIFAR-10 Batch 1:  Current Cost: 2.1725390979554504e-06, Current Accuracy: 0.7045998573303223\n",
      "Epoch 51, CIFAR-10 Batch 2:  Current Cost: 0.00039948904304765165, Current Accuracy: 0.6947999000549316\n",
      "Epoch 51, CIFAR-10 Batch 3:  Current Cost: 0.00042272682185284793, Current Accuracy: 0.6941998600959778\n",
      "Epoch 51, CIFAR-10 Batch 4:  Current Cost: 0.0001499048958066851, Current Accuracy: 0.6889998912811279\n",
      "Epoch 51, CIFAR-10 Batch 5:  Current Cost: 0.003634436521679163, Current Accuracy: 0.68479984998703\n",
      "Epoch 52, CIFAR-10 Batch 1:  Current Cost: 0.0008861427777446806, Current Accuracy: 0.6911998391151428\n",
      "Epoch 52, CIFAR-10 Batch 2:  Current Cost: 0.00060859794029966, Current Accuracy: 0.6853998899459839\n",
      "Epoch 52, CIFAR-10 Batch 3:  Current Cost: 5.9174784837523475e-05, Current Accuracy: 0.7011998295783997\n",
      "Epoch 52, CIFAR-10 Batch 4:  Current Cost: 0.00014151292270980775, Current Accuracy: 0.6905999183654785\n",
      "Epoch 52, CIFAR-10 Batch 5:  Current Cost: 0.00040804879972711205, Current Accuracy: 0.6967998743057251\n",
      "Epoch 53, CIFAR-10 Batch 1:  Current Cost: 0.00016435256111435592, Current Accuracy: 0.6939998865127563\n",
      "Epoch 53, CIFAR-10 Batch 2:  Current Cost: 0.00012287573190405965, Current Accuracy: 0.6841999292373657\n",
      "Epoch 53, CIFAR-10 Batch 3:  Current Cost: 0.00024798765662126243, Current Accuracy: 0.7075998187065125\n",
      "Epoch 53, CIFAR-10 Batch 4:  Current Cost: 0.0005918779643252492, Current Accuracy: 0.6941998600959778\n",
      "Epoch 53, CIFAR-10 Batch 5:  Current Cost: 0.0007797237485647202, Current Accuracy: 0.6949998140335083\n",
      "Epoch 54, CIFAR-10 Batch 1:  Current Cost: 8.398947829846293e-05, Current Accuracy: 0.6953998804092407\n",
      "Epoch 54, CIFAR-10 Batch 2:  Current Cost: 0.0001638656249269843, Current Accuracy: 0.6983998417854309\n",
      "Epoch 54, CIFAR-10 Batch 3:  Current Cost: 0.00018787644512485713, Current Accuracy: 0.7029998302459717\n",
      "Epoch 54, CIFAR-10 Batch 4:  Current Cost: 0.003588853171095252, Current Accuracy: 0.7005998492240906\n",
      "Epoch 54, CIFAR-10 Batch 5:  Current Cost: 0.00022321358846966177, Current Accuracy: 0.6993998289108276\n",
      "Epoch 55, CIFAR-10 Batch 1:  Current Cost: 2.996844705194235e-05, Current Accuracy: 0.7013998627662659\n",
      "Epoch 55, CIFAR-10 Batch 2:  Current Cost: 5.037560185883194e-05, Current Accuracy: 0.6989998817443848\n",
      "Epoch 55, CIFAR-10 Batch 3:  Current Cost: 4.80009475722909e-05, Current Accuracy: 0.6947999000549316\n",
      "Epoch 55, CIFAR-10 Batch 4:  Current Cost: 0.002463517477735877, Current Accuracy: 0.6981998085975647\n",
      "Epoch 55, CIFAR-10 Batch 5:  Current Cost: 0.0004178736126050353, Current Accuracy: 0.6909998655319214\n",
      "Epoch 56, CIFAR-10 Batch 1:  Current Cost: 6.162187492009252e-05, Current Accuracy: 0.6995998620986938\n",
      "Epoch 56, CIFAR-10 Batch 2:  Current Cost: 1.1510050171636976e-05, Current Accuracy: 0.7033998966217041\n",
      "Epoch 56, CIFAR-10 Batch 3:  Current Cost: 9.681577466835734e-06, Current Accuracy: 0.7023998498916626\n",
      "Epoch 56, CIFAR-10 Batch 4:  Current Cost: 0.000344735017279163, Current Accuracy: 0.6929998993873596\n",
      "Epoch 56, CIFAR-10 Batch 5:  Current Cost: 0.00033507440821267664, Current Accuracy: 0.6913999319076538\n"
     ]
    }
   ],
   "source": [
    "\"\"\"\n",
    "DON'T MODIFY ANYTHING IN THIS CELL\n",
    "\"\"\"\n",
    "save_model_path = './image_classification'\n",
    "\n",
    "print('Training...')\n",
    "with tf.Session() as sess:\n",
    "    # Initializing the variables\n",
    "    sess.run(tf.global_variables_initializer())\n",
    "    \n",
    "    # Training cycle\n",
    "    for epoch in range(epochs):\n",
    "        # Loop over all batches\n",
    "        n_batches = 5\n",
    "        for batch_i in range(1, n_batches + 1):\n",
    "            for batch_features, batch_labels in helper.load_preprocess_training_batch(batch_i, batch_size):\n",
    "                train_neural_network(sess, optimizer, keep_probability, batch_features, batch_labels)\n",
    "            print('Epoch {:>2}, CIFAR-10 Batch {}:  '.format(epoch + 1, batch_i), end='')\n",
    "            print_stats(sess, batch_features, batch_labels, cost, accuracy)\n",
    "            \n",
    "    # Save Model\n",
    "    saver = tf.train.Saver()\n",
    "    save_path = saver.save(sess, save_model_path)"
   ]
  },
  {
   "cell_type": "markdown",
   "metadata": {
    "deletable": true,
    "editable": true
   },
   "source": [
    "# Checkpoint\n",
    "The model has been saved to disk.\n",
    "## Test Model\n",
    "Test your model against the test dataset.  This will be your final accuracy. You should have an accuracy greater than 50%. If you don't, keep tweaking the model architecture and parameters."
   ]
  },
  {
   "cell_type": "code",
   "execution_count": 175,
   "metadata": {
    "collapsed": false,
    "deletable": true,
    "editable": true
   },
   "outputs": [
    {
     "name": "stdout",
     "output_type": "stream",
     "text": [
      "Testing Accuracy: 0.6823575949367089\n",
      "\n"
     ]
    },
    {
     "data": {
      "image/png": "[encoded data removed]",
      "text/plain": [
       "<matplotlib.figure.Figure at 0x7fca189adef0>"
      ]
     },
     "metadata": {
      "image/png": {
       "height": 319,
       "width": 349
      }
     },
     "output_type": "display_data"
    }
   ],
   "source": [
    "\"\"\"\n",
    "DON'T MODIFY ANYTHING IN THIS CELL\n",
    "\"\"\"\n",
    "%matplotlib inline\n",
    "%config InlineBackend.figure_format = 'retina'\n",
    "\n",
    "import tensorflow as tf\n",
    "import pickle\n",
    "import helper\n",
    "import random\n",
    "\n",
    "# Set batch size if not already set\n",
    "try:\n",
    "    if batch_size:\n",
    "        pass\n",
    "except NameError:\n",
    "    batch_size = 64\n",
    "\n",
    "save_model_path = './image_classification'\n",
    "n_samples = 4\n",
    "top_n_predictions = 3\n",
    "\n",
    "def test_model():\n",
    "    \"\"\"\n",
    "    Test the saved model against the test dataset\n",
    "    \"\"\"\n",
    "\n",
    "    test_features, test_labels = pickle.load(open('preprocess_training.p', mode='rb'))\n",
    "    loaded_graph = tf.Graph()\n",
    "\n",
    "    with tf.Session(graph=loaded_graph) as sess:\n",
    "        # Load model\n",
    "        loader = tf.train.import_meta_graph(save_model_path + '.meta')\n",
    "        loader.restore(sess, save_model_path)\n",
    "\n",
    "        # Get Tensors from loaded model\n",
    "        loaded_x = loaded_graph.get_tensor_by_name('x:0')\n",
    "        loaded_y = loaded_graph.get_tensor_by_name('y:0')\n",
    "        loaded_keep_prob = loaded_graph.get_tensor_by_name('keep_prob:0')\n",
    "        loaded_logits = loaded_graph.get_tensor_by_name('logits:0')\n",
    "        loaded_acc = loaded_graph.get_tensor_by_name('accuracy:0')\n",
    "        \n",
    "        # Get accuracy in batches for memory limitations\n",
    "        test_batch_acc_total = 0\n",
    "        test_batch_count = 0\n",
    "        \n",
    "        for train_feature_batch, train_label_batch in helper.batch_features_labels(test_features, test_labels, batch_size):\n",
    "            test_batch_acc_total += sess.run(\n",
    "                loaded_acc,\n",
    "                feed_dict={loaded_x: train_feature_batch, loaded_y: train_label_batch, loaded_keep_prob: 1.0})\n",
    "            test_batch_count += 1\n",
    "\n",
    "        print('Testing Accuracy: {}\\n'.format(test_batch_acc_total/test_batch_count))\n",
    "\n",
    "        # Print Random Samples\n",
    "        random_test_features, random_test_labels = tuple(zip(*random.sample(list(zip(test_features, test_labels)), n_samples)))\n",
    "        random_test_predictions = sess.run(\n",
    "            tf.nn.top_k(tf.nn.softmax(loaded_logits), top_n_predictions),\n",
    "            feed_dict={loaded_x: random_test_features, loaded_y: random_test_labels, loaded_keep_prob: 1.0})\n",
    "        helper.display_image_predictions(random_test_features, random_test_labels, random_test_predictions)\n",
    "\n",
    "\n",
    "test_model()"
   ]
  },
  {
   "cell_type": "markdown",
   "metadata": {
    "deletable": true,
    "editable": true
   },
   "source": [
    "## Why 50-80% Accuracy?\n",
    "You might be wondering why you can't get an accuracy any higher. First things first, 50% isn't bad for a simple CNN.  Pure guessing would get you 10% accuracy. However, you might notice people are getting scores [well above 80%](http://rodrigob.github.io/are_we_there_yet/build/classification_datasets_results.html#43494641522d3130).  That's because we haven't taught you all there is to know about neural networks. We still need to cover a few more techniques.\n",
    "## Submitting This Project\n",
    "When submitting this project, make sure to run all the cells before saving the notebook.  Save the notebook file as \"dlnd_image_classification.ipynb\" and save it as a HTML file under \"File\" -> \"Download as\".  Include the \"helper.py\" and \"problem_unittests.py\" files in your submission."
   ]
  }
 ],
 "metadata": {
  "kernelspec": {
   "display_name": "Python 3",
   "language": "python",
   "name": "python3"
  },
  "language_info": {
   "codemirror_mode": {
    "name": "ipython",
    "version": 3
   },
   "file_extension": ".py",
   "mimetype": "text/x-python",
   "name": "python",
   "nbconvert_exporter": "python",
   "pygments_lexer": "ipython3",
   "version": "3.6.0"
  }
 },
 "nbformat": 4,
 "nbformat_minor": 0
}
